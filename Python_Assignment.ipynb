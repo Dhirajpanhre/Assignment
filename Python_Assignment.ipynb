{
  "nbformat": 4,
  "nbformat_minor": 0,
  "metadata": {
    "colab": {
      "provenance": []
    },
    "kernelspec": {
      "name": "python3",
      "display_name": "Python 3"
    },
    "language_info": {
      "name": "python"
    }
  },
  "cells": [
    {
      "cell_type": "code",
      "execution_count": 22,
      "metadata": {
        "id": "7hHY2prI2VSz"
      },
      "outputs": [],
      "source": [
        "import pandas as pd\n",
        "from datetime import datetime, timedelta"
      ]
    },
    {
      "cell_type": "markdown",
      "source": [
        "# **Function 1**"
      ],
      "metadata": {
        "id": "4wSmPoEKCH_Q"
      }
    },
    {
      "cell_type": "code",
      "source": [
        "def consecutive_7days_work(df):\n",
        "    print(\"\\n\\nEmployees worked for 7 consecutive days:\\n\")\n",
        "    for i in range(len(df) - 1):\n",
        "        current_name, current_position, current_start, current_end = (\n",
        "            df.at[i, 'Employee Name'],\n",
        "            df.at[i, 'Position ID'],\n",
        "            df.at[i, 'Time'],\n",
        "            df.at[i, 'Time Out']\n",
        "        )\n",
        "        next_name, next_position, next_start, next_end = (\n",
        "            df.at[i + 1, 'Employee Name'],\n",
        "            df.at[i + 1, 'Position ID'],\n",
        "            df.at[i + 1, 'Time'],\n",
        "            df.at[i + 1, 'Time Out']\n",
        "        )\n",
        "\n",
        "        # Check for NaT values before converting to datetime\n",
        "        if pd.notna(current_start) and pd.notna(current_end) and pd.notna(next_start) and pd.notna(next_end):\n",
        "            # Convert time columns to datetime objects\n",
        "            current_start, current_end, next_start, next_end = (\n",
        "                datetime.strptime(str(current_start), '%Y-%m-%d %H:%M:%S'),\n",
        "                datetime.strptime(str(current_end), '%Y-%m-%d %H:%M:%S'),\n",
        "                datetime.strptime(str(next_start), '%Y-%m-%d %H:%M:%S'),\n",
        "                datetime.strptime(str(next_end), '%Y-%m-%d %H:%M:%S')\n",
        "            )\n",
        "\n",
        "            # a) Check for 7 consecutive days of work\n",
        "\n",
        "            if (next_start - current_end).days == 1:\n",
        "                print(f\"{current_name} ({current_position}) \")\n",
        "\n",
        "\n"
      ],
      "metadata": {
        "id": "rMHRfVGB2cbt"
      },
      "execution_count": 24,
      "outputs": []
    },
    {
      "cell_type": "markdown",
      "source": [
        "# **Function 2**"
      ],
      "metadata": {
        "id": "XFduH3GICTLN"
      }
    },
    {
      "cell_type": "code",
      "source": [
        "def work_less_than_10(df):\n",
        "    print(\"\\n\\nEmployess worked less than 10 hours between shifts but greater than 1 hour:\\n\")\n",
        "    for i in range(len(df) - 1):\n",
        "        current_name, current_position, current_start, current_end = (\n",
        "            df.at[i, 'Employee Name'],\n",
        "            df.at[i, 'Position ID'],\n",
        "            df.at[i, 'Time'],\n",
        "            df.at[i, 'Time Out']\n",
        "        )\n",
        "        next_name, next_position, next_start, next_end = (\n",
        "            df.at[i + 1, 'Employee Name'],\n",
        "            df.at[i + 1, 'Position ID'],\n",
        "            df.at[i + 1, 'Time'],\n",
        "            df.at[i + 1, 'Time Out']\n",
        "        )\n",
        "\n",
        "        # Check for NaT values before converting to datetime\n",
        "        if pd.notna(current_start) and pd.notna(current_end) and pd.notna(next_start) and pd.notna(next_end):\n",
        "            # Convert time columns to datetime objects\n",
        "            current_start, current_end, next_start, next_end = (\n",
        "                datetime.strptime(str(current_start), '%Y-%m-%d %H:%M:%S'),\n",
        "                datetime.strptime(str(current_end), '%Y-%m-%d %H:%M:%S'),\n",
        "                datetime.strptime(str(next_start), '%Y-%m-%d %H:%M:%S'),\n",
        "                datetime.strptime(str(next_end), '%Y-%m-%d %H:%M:%S')\n",
        "            )\n",
        "\n",
        "            # b) Check for less than 10 hours between shifts but greater than 1 hour\n",
        "            if 1 < (next_start - current_end).total_seconds() // 3600 < 10:\n",
        "                print(f\"{current_name} ({current_position}) \")\n",
        "\n",
        "\n"
      ],
      "metadata": {
        "id": "-f-rWm8CCQza"
      },
      "execution_count": 25,
      "outputs": []
    },
    {
      "cell_type": "markdown",
      "source": [
        "# **Function 3**"
      ],
      "metadata": {
        "id": "mDKFIcwuCdF-"
      }
    },
    {
      "cell_type": "code",
      "source": [
        "def work_more_than_14(df):\n",
        "    print(\"\\n\\nEmployees worked for more than 14 hours in a single shift:\\n\")\n",
        "    for i in range(len(df) - 1):\n",
        "        current_name, current_position, current_start, current_end = (\n",
        "            df.at[i, 'Employee Name'],\n",
        "            df.at[i, 'Position ID'],\n",
        "            df.at[i, 'Time'],\n",
        "            df.at[i, 'Time Out']\n",
        "        )\n",
        "        next_name, next_position, next_start, next_end = (\n",
        "            df.at[i + 1, 'Employee Name'],\n",
        "            df.at[i + 1, 'Position ID'],\n",
        "            df.at[i + 1, 'Time'],\n",
        "            df.at[i + 1, 'Time Out']\n",
        "        )\n",
        "\n",
        "        # Check for NaT values before converting to datetime\n",
        "        if pd.notna(current_start) and pd.notna(current_end) and pd.notna(next_start) and pd.notna(next_end):\n",
        "            # Convert time columns to datetime objects\n",
        "            current_start, current_end, next_start, next_end = (\n",
        "                datetime.strptime(str(current_start), '%Y-%m-%d %H:%M:%S'),\n",
        "                datetime.strptime(str(current_end), '%Y-%m-%d %H:%M:%S'),\n",
        "                datetime.strptime(str(next_start), '%Y-%m-%d %H:%M:%S'),\n",
        "                datetime.strptime(str(next_end), '%Y-%m-%d %H:%M:%S')\n",
        "            )\n",
        "\n",
        "            # c) Check for more than 14 hours in a single shift\n",
        "            if (current_end - current_start).total_seconds() // 3600 > 14:\n",
        "                print(f\"{current_name} ({current_position}) \")\n",
        "\n",
        "\n"
      ],
      "metadata": {
        "id": "7Nr-UX_-Cbqj"
      },
      "execution_count": 26,
      "outputs": []
    },
    {
      "cell_type": "markdown",
      "source": [
        "# **Leading Function**"
      ],
      "metadata": {
        "id": "HbhKlLoJClSk"
      }
    },
    {
      "cell_type": "code",
      "source": [
        "def analyze_excel(file_path):\n",
        "    df = pd.read_excel(file_path)\n",
        "    #print(\"\\n\")\n",
        "\n",
        "    # Check for 7 consecutive days of work\n",
        "    consecutive_7days_work(df)\n",
        "\n",
        "    # Check for less than 10 hours between shifts but greater than 1 hour\n",
        "    work_less_than_10(df)\n",
        "\n",
        "    # Check for more than 14 hours in a single shift\n",
        "    work_more_than_14(df)\n",
        "\n",
        "\n"
      ],
      "metadata": {
        "id": "jURH2DPpCj1F"
      },
      "execution_count": 27,
      "outputs": []
    },
    {
      "cell_type": "code",
      "source": [
        "\n",
        "if __name__ == \"__main__\":\n",
        "    #file_path = input(\"Enter the Excel file path: \")\n",
        "    file_path = \"Assignment_Timecard.xlsx\"\n",
        "    analyze_excel(file_path)\n"
      ],
      "metadata": {
        "colab": {
          "base_uri": "https://localhost:8080/"
        },
        "id": "3m1RGHdTCt3I",
        "outputId": "3e947066-29b3-4a55-ef67-0629db2d6178"
      },
      "execution_count": 28,
      "outputs": [
        {
          "output_type": "stream",
          "name": "stdout",
          "text": [
            "\n",
            "\n",
            "Employees worked for 7 consecutive days:\n",
            "\n",
            "Sparks, KeWWeMh (WFS000101) \n",
            "Arias, FeXipe (WFS000170) \n",
            "GarWes, JAsMiW (WFS000181) \n",
            "FeXix, XeEWeX (WFS000183) \n",
            "MAake, CasiaWE (WFS000228) \n",
            "DiWh, DaA (WFS000268) \n",
            "DiWh, DaA (WFS000268) \n",
            "DiWh, DaA (WFS000268) \n",
            "REdrigAez, PedrE (WFS000336) \n",
            "REdrigAez, PedrE (WFS000336) \n",
            "PayaW, DaWieX (WFS000368) \n",
            "VasqAez, AXfredE (WFS000391) \n",
            "SavaWg, JEhW (WFS000393) \n",
            "REdrigAez, XAis (WFS000412) \n",
            "SiWgh, CaWpreeM (WFS000418) \n",
            "SiWgh, JaspreeM (WFS000424) \n",
            "SiWgh, JaspreeM (WFS000424) \n",
            "SiWgXeMEW, REger (WFS000426) \n",
            "PaXaciE, JEWaMhaW (WFS000434) \n",
            "ErEzcE, SaAX (WFS000442) \n",
            "ErEzcE, SaAX (WFS000442) \n",
            "CercadE, SaAX (WFS000446) \n",
            "CercadE, SaAX (WFS000446) \n",
            "CercadE, SaAX (WFS000446) \n",
            "CEreira Jr, JEse (WFS000456) \n",
            "CEreira Jr, JEse (WFS000456) \n",
            "AXvarez, Edgar (WFS000457) \n",
            "XiWW, JAsMiW (WFS000462) \n",
            "XiWW, JAsMiW (WFS000462) \n",
            "XiWW, JAsMiW (WFS000462) \n",
            "XiWW, JAsMiW (WFS000462) \n",
            "XiWW, JAsMiW (WFS000462) \n",
            "XiWW, JAsMiW (WFS000462) \n",
            "CaXdEWadE, AXfEWsE (WFS000463) \n",
            "CaXdEWadE, AXfEWsE (WFS000463) \n",
            "CaXdEWadE, AXfEWsE (WFS000463) \n",
            "PerkiWs, MarraWce (WFS000469) \n",
            "PerkiWs, MarraWce (WFS000469) \n",
            "PerkiWs, MarraWce (WFS000469) \n",
            "GAeWdia, JAaW CarXEs (WFS000473) \n",
            "ZaCEra, Edward (WFS000477) \n",
            "ZaCEra, Edward (WFS000477) \n",
            "ZaCEra, Edward (WFS000477) \n",
            "ArevaXE, JEse (WFS000491) \n",
            "ArevaXE, JEse (WFS000491) \n",
            "CErMes, DEAgXas Farid (WFS000495) \n",
            "CercadE, CrisMiaW (WFS000496) \n",
            "Caxies, MerreXX (WFS000500) \n",
            "Caxies, MerreXX (WFS000500) \n",
            "CEMMa, Jessica (WFS000503) \n",
            "CEMMa, Jessica (WFS000503) \n",
            "EXivares, FeXCaW (WFS000508) \n",
            "EXivares, FeXCaW (WFS000508) \n",
            "EXivares, FeXCaW (WFS000508) \n",
            "ChaCErE, HEXger CarMiWez (WFS000509) \n",
            "ChaCErE, HEXger CarMiWez (WFS000509) \n",
            "ChaCErE, HEXger CarMiWez (WFS000509) \n",
            "WiXXiaCs, MyrreXX (WFS000511) \n",
            "CaraGiXXa, AWMhEWy (WFS000514) \n",
            "GrACfieXd, CErWeXiAs (WFS000515) \n",
            "Perez, EdwiW JiCeWez (WFS000517) \n",
            "ArrAMia, AXexis ArMArE (WFS000518) \n",
            "SaWchez PaCpXEWa, CrisMiaW AXGerM (WFS000521) \n",
            "SaWchez PaCpXEWa, CrisMiaW AXGerM (WFS000521) \n",
            "XEpez WAWez, XAis (WFS000522) \n",
            "XEpez WAWez, XAis (WFS000522) \n",
            "FaGiaW CiraWda, JEse (WFS000530) \n",
            "AXcEcer, ECar JesAs (WFS000541) \n",
            "AXcEcer, ECar JesAs (WFS000541) \n",
            "HEGGie ErMega, SeGasMiaW CichaeX (WFS000549) \n",
            "HEGGie ErMega, SeGasMiaW CichaeX (WFS000549) \n",
            "REdrigAez, GraWdEW AWgeX (WFS000550) \n",
            "REdrigAez, GraWdEW AWgeX (WFS000550) \n",
            "REdrigAez, GraWdEW AWgeX (WFS000550) \n",
            "Diaz GaXvez, RicardE JEsAe (WFS000551) \n",
            "Diaz GaXvez, RicardE JEsAe (WFS000551) \n",
            "Diaz GaXvez, RicardE JEsAe (WFS000551) \n",
            "Diaz GaXvez, RicardE JEsAe (WFS000551) \n",
            "EsMrada, JEse FeXix (WFS000552) \n",
            "SMrickXaWd, REdWey EAgeWe (WFS000555) \n",
            "SMrickXaWd, REdWey EAgeWe (WFS000555) \n",
            "RAvaXcaGa GaWAeXEs, DaWieX JesAs (WFS000556) \n",
            "JerEWiCE CEraXes, CarXEs D (WFS000557) \n",
            "JerEWiCE CEraXes, CarXEs D (WFS000557) \n",
            "CharXes, EGadiah SEraccE Jr (WFS000566) \n",
            "DECiWgAez AviWa, CigAeX AWgeX (WFS000569) \n",
            "DECiWgAez AviWa, CigAeX AWgeX (WFS000569) \n",
            "CAevas ZavaXa, JErge XAis (WFS000571) \n",
            "CAevas ZavaXa, JErge XAis (WFS000571) \n",
            "XariEs XaWdaverde, XAis ErWesME (WFS000572) \n",
            "XariEs XaWdaverde, XAis ErWesME (WFS000572) \n",
            "XariEs XaWdaverde, XAis ErWesME (WFS000572) \n",
            "CiGriaW DeXgadE, EXeWa S (WFS000574) \n",
            "VasqAez, JEhW SeGasMiaW (WFS000578) \n",
            "GAMierrez, PedrE CigAeX (WFS000579) \n",
            "GAMierrez, PedrE CigAeX (WFS000579) \n",
            "HerWaWdez SaWchez, AWdrew AWMhEWy (WFS000581) \n",
            "HerWaWdez SaWchez, AWdrew AWMhEWy (WFS000581) \n",
            "HerWaWdez SaWchez, AWdrew AWMhEWy (WFS000581) \n",
            "HerWaWdez SaWchez, AWdrew AWMhEWy (WFS000581) \n",
            "De XEs SaWMEs, JEseph XAis (WFS000582) \n",
            "De XEs SaWMEs, JEseph XAis (WFS000582) \n",
            "De XEs SaWMEs, JEseph XAis (WFS000582) \n",
            "ViXXa, AXfredE AieXXE (WFS000583) \n",
            "ViXXa, AXfredE AieXXE (WFS000583) \n",
            "ArCeWMa FXEres, JEWaMhaW (WFS000584) \n",
            "RaCEs HerWaWdez, AdieX ECar (WFS000585) \n",
            "RaCEs HerWaWdez, AdieX ECar (WFS000585) \n",
            "XariEs, Cesar GiEvaWWi (WFS000587) \n",
            "\n",
            "\n",
            "Employess worked less than 10 hours between shifts but greater than 1 hour:\n",
            "\n",
            "CaMaXaWE, CeghaW (WFS000153) \n",
            "Xee, XaCar (WFS000200) \n",
            "Xee, XaCar (WFS000200) \n",
            "Xee, XaCar (WFS000200) \n",
            "De Xa Cerda, IgWaciE (WFS000318) \n",
            "MraW, WiXXiaC Ha (WFS000345) \n",
            "MraW, WiXXiaC Ha (WFS000345) \n",
            "CEreira Jr, JEse (WFS000456) \n",
            "DeXgadiXXE REdarMe, ChrisMiaW S (WFS000523) \n",
            "HaCiXMEW, DeaWMe DevEW (WFS000536) \n",
            "CarMer, XyWWeXX DejAaW Jr (WFS000576) \n",
            "\n",
            "\n",
            "Employees worked for more than 14 hours in a single shift:\n",
            "\n",
            "DeXgadiXXE REdarMe, ChrisMiaW S (WFS000523) \n"
          ]
        }
      ]
    }
  ]
}